{
  "nbformat": 4,
  "nbformat_minor": 0,
  "metadata": {
    "colab": {
      "provenance": [],
      "gpuType": "T4",
      "include_colab_link": true
    },
    "kernelspec": {
      "name": "python3",
      "display_name": "Python 3"
    },
    "language_info": {
      "name": "python"
    },
    "accelerator": "GPU"
  },
  "cells": [
    {
      "cell_type": "markdown",
      "metadata": {
        "id": "view-in-github",
        "colab_type": "text"
      },
      "source": [
        "<a href=\"https://colab.research.google.com/github/reginaldrhoe/ML604P1/blob/main/Rhoe_MNIST_Prediction_with_Linear_Neural_Network.ipynb\" target=\"_parent\"><img src=\"https://colab.research.google.com/assets/colab-badge.svg\" alt=\"Open In Colab\"/></a>"
      ]
    },
    {
      "cell_type": "code",
      "source": [],
      "metadata": {
        "id": "_jQQxHzzBWCV"
      },
      "execution_count": null,
      "outputs": []
    },
    {
      "cell_type": "markdown",
      "source": [
        "# Project: MNIST Prediction with Linear Neural Network\n",
        "\n",
        "Reginald Rhoe"
      ],
      "metadata": {
        "id": "Us-19EuBwGL-"
      }
    },
    {
      "cell_type": "code",
      "source": [
        "from google.colab import drive\n",
        "drive.mount('/content/drive')\n",
        "%cd #your own google drive directory, make sure you move MNIST data to your directory as well."
      ],
      "metadata": {
        "id": "JVzmbm080N__",
        "colab": {
          "base_uri": "https://localhost:8080/"
        },
        "outputId": "11f9733f-2a42-4fb0-a844-afc9f715a354"
      },
      "execution_count": null,
      "outputs": [
        {
          "output_type": "stream",
          "name": "stdout",
          "text": [
            "Mounted at /content/drive\n",
            "[Errno 2] No such file or directory: '#your own google drive directory, make sure you move MNIST data to your directory as well.'\n",
            "/content\n"
          ]
        }
      ]
    },
    {
      "cell_type": "markdown",
      "source": [
        "Build and train a single-layer neural network (i.e. a linear classifier) to classify handwritten digits from the MNIST dataset. This will help you understand how neural networks work from the ground up using PyTorch."
      ],
      "metadata": {
        "id": "ux0lQVA6DoB0"
      }
    },
    {
      "cell_type": "markdown",
      "source": [
        "**Import Required Libraries**"
      ],
      "metadata": {
        "id": "WqMZhQkVDs8Y"
      }
    },
    {
      "cell_type": "code",
      "source": [
        "import torch\n",
        "import torch.nn as nn\n",
        "import torch.optim as optim\n",
        "from torch.utils.data import Dataset, DataLoader\n",
        "from torchvision import datasets, transforms, utils\n",
        "import numpy as np"
      ],
      "metadata": {
        "id": "pJywn0mja1Mm"
      },
      "execution_count": null,
      "outputs": []
    },
    {
      "cell_type": "markdown",
      "source": [
        "**Load the MNIST Dataset**\n",
        "\n",
        "Use torchvision.datasets and apply a transformation to flatten the image and convert it to a tensor."
      ],
      "metadata": {
        "id": "ibg16VdSDwTG"
      }
    },
    {
      "cell_type": "code",
      "source": [
        "transform = transforms.Compose([\n",
        "    transforms.ToTensor(),\n",
        "    transforms.Lambda(lambda x: x.reshape(1, 1, -1)),  # flatten 28x28 to 784\n",
        "    transforms.Normalize((0.1307,), (0.3081,))\n",
        "])"
      ],
      "metadata": {
        "id": "mqAjA4NdcBi_"
      },
      "execution_count": null,
      "outputs": []
    },
    {
      "cell_type": "markdown",
      "source": [
        "**Question 1:** can you explain the mean and standard deviation set above? **[10 points]**"
      ],
      "metadata": {
        "id": "YTX_cQ2WcMmD"
      }
    },
    {
      "cell_type": "code",
      "source": [
        "trainset = datasets.MNIST(root='./MNIST', train=True, download=True, transform=transform)\n",
        "testset = datasets.MNIST(root='./MNIST', train=False, download=True, transform=transform)"
      ],
      "metadata": {
        "id": "wArz4rhMawxe",
        "colab": {
          "base_uri": "https://localhost:8080/"
        },
        "outputId": "78e16a55-3aa7-4416-bc2e-2c492ed6a9e7"
      },
      "execution_count": null,
      "outputs": [
        {
          "output_type": "stream",
          "name": "stderr",
          "text": [
            "100%|██████████| 9.91M/9.91M [00:00<00:00, 16.4MB/s]\n",
            "100%|██████████| 28.9k/28.9k [00:00<00:00, 425kB/s]\n",
            "100%|██████████| 1.65M/1.65M [00:00<00:00, 4.03MB/s]\n",
            "100%|██████████| 4.54k/4.54k [00:00<00:00, 7.76MB/s]\n"
          ]
        }
      ]
    },
    {
      "cell_type": "markdown",
      "source": [
        "**Question 2:** What is the sample size of trainset and testset? what is the dimension of each sample? **[10 points]**"
      ],
      "metadata": {
        "id": "4zSqLrYrQzX4"
      }
    },
    {
      "cell_type": "code",
      "source": [
        "# your answer here:"
      ],
      "metadata": {
        "id": "mXRXeA-4S1sh"
      },
      "execution_count": null,
      "outputs": []
    },
    {
      "cell_type": "code",
      "metadata": {
        "colab": {
          "base_uri": "https://localhost:8080/"
        },
        "id": "f52b0a1e",
        "outputId": "b9ac149a-c428-4406-fe95-f29487e0c641"
      },
      "source": [
        "print(f\"Trainset sample size: {len(trainset)}\")\n",
        "print(f\"Testset sample size: {len(testset)}\")\n",
        "\n",
        "# Get the shape of a single sample\n",
        "image, label = trainset[0]\n",
        "print(f\"Dimension of each sample: {image.shape}\")"
      ],
      "execution_count": null,
      "outputs": [
        {
          "output_type": "stream",
          "name": "stdout",
          "text": [
            "Trainset sample size: 60000\n",
            "Testset sample size: 10000\n",
            "Dimension of each sample: torch.Size([1, 1, 784])\n"
          ]
        }
      ]
    },
    {
      "cell_type": "markdown",
      "source": [
        "**Question 3:** Have a look at the images and shape in trainset. Visualize some images along with their labels. You may need to reshape the tensor from 784 flat vector to 28x28. **[10 points]**"
      ],
      "metadata": {
        "id": "Evx19MdLcUcE"
      }
    },
    {
      "cell_type": "code",
      "source": [
        "# plot a couple of images along with their labels..."
      ],
      "metadata": {
        "id": "56MLNeITS6XU"
      },
      "execution_count": null,
      "outputs": []
    },
    {
      "cell_type": "markdown",
      "source": [
        "**Construct train and test dataloaders**"
      ],
      "metadata": {
        "id": "ar1oIxpVNkpw"
      }
    },
    {
      "cell_type": "code",
      "source": [
        "batch_size = 128\n",
        "train_dataloader = DataLoader(trainset, batch_size=batch_size, shuffle=True)\n",
        "test_dataloader = DataLoader(testset, batch_size=batch_size, shuffle=True)"
      ],
      "metadata": {
        "id": "2CCrE2PDujcC"
      },
      "execution_count": null,
      "outputs": []
    },
    {
      "cell_type": "code",
      "source": [
        "real_batch = next(iter(train_dataloader))"
      ],
      "metadata": {
        "id": "KoY3MXCMgT1n"
      },
      "execution_count": null,
      "outputs": []
    },
    {
      "cell_type": "code",
      "source": [
        "# shape of each batch tensor\n",
        "real_batch[0].shape"
      ],
      "metadata": {
        "id": "oEa7bmPiPle0",
        "colab": {
          "base_uri": "https://localhost:8080/"
        },
        "outputId": "77b5a2ce-dfee-47db-c3f7-f740f4c3e221"
      },
      "execution_count": null,
      "outputs": [
        {
          "output_type": "execute_result",
          "data": {
            "text/plain": [
              "torch.Size([128, 1, 1, 784])"
            ]
          },
          "metadata": {},
          "execution_count": 12
        }
      ]
    },
    {
      "cell_type": "code",
      "metadata": {
        "colab": {
          "base_uri": "https://localhost:8080/",
          "height": 192
        },
        "id": "6a5500b8",
        "outputId": "5d9d7f9f-bf22-4e8b-9f32-24638e3d05d6"
      },
      "source": [
        "import matplotlib.pyplot as plt\n",
        "\n",
        "def imshow(img, title):\n",
        "    # img is a tensor with shape [1, 1, 784] or [1, 784]\n",
        "    # We need to reshape it to [28, 28] for plotting\n",
        "    img = img.reshape(28, 28)\n",
        "    plt.imshow(img, cmap='gray')\n",
        "    plt.title(title)\n",
        "    plt.axis('off')\n",
        "\n",
        "# Get a batch of training data\n",
        "images, labels = next(iter(train_dataloader))\n",
        "\n",
        "# Display a few images\n",
        "fig = plt.figure(figsize=(10, 5))\n",
        "for i in range(5):\n",
        "    ax = fig.add_subplot(1, 5, i+1)\n",
        "    imshow(images[i], title=f'Label: {labels[i].item()}')\n",
        "plt.show()"
      ],
      "execution_count": null,
      "outputs": [
        {
          "output_type": "display_data",
          "data": {
            "text/plain": [
              "<Figure size 1000x500 with 5 Axes>"
            ],
            "image/png": "[encoded data removed]"
          },
          "metadata": {}
        }
      ]
    },
    {
      "cell_type": "markdown",
      "source": [
        "**Define the Model:**\n",
        "\n",
        "Implement a single linear layer (784 → 10) with bias. You don't need to implement softmax as it is applied internally in our loss function. Complete the code below. **[10 points]**\n"
      ],
      "metadata": {
        "id": "B_qrPbXGce7d"
      }
    },
    {
      "cell_type": "code",
      "source": [
        "class Mnist_Logistic(nn.Module):\n",
        "    def __init__(self):\n",
        "        super().__init__()\n",
        "        # your code here to define the linear layer self.linear\n",
        "        self.linear = nn.Linear(784, 10)\n",
        "\n",
        "    def forward(self, x): return self.linear(x).squeeze()"
      ],
      "metadata": {
        "id": "e4FRicbRbqVu"
      },
      "execution_count": null,
      "outputs": []
    },
    {
      "cell_type": "code",
      "source": [
        "model = Mnist_Logistic()"
      ],
      "metadata": {
        "id": "TRALxijw0GlL"
      },
      "execution_count": null,
      "outputs": []
    },
    {
      "cell_type": "markdown",
      "source": [
        "**Define the Loss and Optimizer**\n",
        "\n",
        "Use nn.CrossEntropyLoss() and an optimizer like SGD. You can start with 1e-2 as your learning rate, but you are welcome to choose a better value for this hyper-parameter later.\n"
      ],
      "metadata": {
        "id": "1gDyhdMZFiOg"
      }
    },
    {
      "cell_type": "code",
      "source": [
        "lr=1e-2\n",
        "\n",
        "loss_func = nn.CrossEntropyLoss()\n",
        "optimizer = optim.SGD(model.parameters(), lr=lr)"
      ],
      "metadata": {
        "id": "VMxyX3z53JLV"
      },
      "execution_count": null,
      "outputs": []
    },
    {
      "cell_type": "markdown",
      "source": [
        "**Activate GPU** by changing device to cuda. Make sure your GPU is enabled in Edit/notebook settings/hardware accelarator"
      ],
      "metadata": {
        "id": "RBcrsMWKGUfP"
      }
    },
    {
      "cell_type": "code",
      "source": [
        "device = torch.device('cuda' if torch.cuda.is_available() else 'cpu')\n",
        "device"
      ],
      "metadata": {
        "id": "rWNxbTgDg3QF",
        "colab": {
          "base_uri": "https://localhost:8080/"
        },
        "outputId": "2e13018f-d254-49f6-87e5-4c3a876319d3"
      },
      "execution_count": null,
      "outputs": [
        {
          "output_type": "execute_result",
          "data": {
            "text/plain": [
              "device(type='cuda')"
            ]
          },
          "metadata": {},
          "execution_count": 17
        }
      ]
    },
    {
      "cell_type": "markdown",
      "source": [
        "**Training Loop**\n",
        "\n",
        "Implement the training loop for one epochs. Save the loss for each batch in a list (train_losses) and plot all the loss values. Complete the code for each commented sentence below it. **[40 points]**"
      ],
      "metadata": {
        "id": "214ZjqaeGs5S"
      }
    },
    {
      "cell_type": "code",
      "source": [
        "num_epochs = 1\n",
        "train_losses = [] # the list to keep all the batch losses\n",
        "\n",
        "for epoch in range(num_epochs):\n",
        "    model.to(device)\n",
        "    model.train()\n",
        "    for images, labels in train_dataloader:\n",
        "\n",
        "        # put both images and labels on the device\n",
        "        images, labels = images.to(device), labels.to(device)\n",
        "\n",
        "        # feed images to model and create the outputs\n",
        "        outputs = model(images)\n",
        "\n",
        "        # calculate the loss value\n",
        "        loss = loss_func(outputs, labels)\n",
        "\n",
        "        # calculate the gradients and update the weights using the optimizer\n",
        "        # make sure you zero the gradients first, the calculate the gradients\n",
        "        # and finally update the weights\n",
        "        optimizer.zero_grad()\n",
        "        loss.backward()\n",
        "        optimizer.step()\n",
        "\n",
        "        # save the loss value in train_losses\n",
        "        train_losses.append(loss.item())\n",
        "\n",
        "\n",
        "    print(f'Epoch [{epoch+1}/{num_epochs}], Training Loss: {train_losses[-1]:.4f}')"
      ],
      "metadata": {
        "id": "xraZlYKwhAcB",
        "colab": {
          "base_uri": "https://localhost:8080/"
        },
        "outputId": "5cf0b327-09b8-41f7-e00d-67a1f90eae93"
      },
      "execution_count": null,
      "outputs": [
        {
          "output_type": "stream",
          "name": "stdout",
          "text": [
            "Epoch [1/1], Training Loss: 0.4109\n"
          ]
        }
      ]
    },
    {
      "cell_type": "markdown",
      "source": [
        "**Question 5:** Plot the training losses. Do you see a decrese in your batch loss? **[10 points]**"
      ],
      "metadata": {
        "id": "b0VTEiULRuFv"
      }
    },
    {
      "cell_type": "code",
      "source": [
        "plt.plot(train_losses)"
      ],
      "metadata": {
        "id": "4ILq43FbmP6I",
        "colab": {
          "base_uri": "https://localhost:8080/",
          "height": 447
        },
        "outputId": "a6782b23-2b54-44e8-c213-6575ae6c70c4"
      },
      "execution_count": null,
      "outputs": [
        {
          "output_type": "execute_result",
          "data": {
            "text/plain": [
              "[<matplotlib.lines.Line2D at 0x7c51c7dac410>]"
            ]
          },
          "metadata": {},
          "execution_count": 26
        },
        {
          "output_type": "display_data",
          "data": {
            "text/plain": [
              "<Figure size 640x480 with 1 Axes>"
            ],
            "image/png": "[encoded data removed]"
          },
          "metadata": {}
        }
      ]
    },
    {
      "cell_type": "markdown",
      "source": [
        "**Evaluate the Model**\n",
        "\n",
        "Calculate accuracy on the test set."
      ],
      "metadata": {
        "id": "nwiIQskFH4NJ"
      }
    },
    {
      "cell_type": "code",
      "source": [
        "model.eval()\n",
        "correct = 0\n",
        "total = 0\n",
        "with torch.no_grad():\n",
        "  for images, labels in test_dataloader:\n",
        "      images, labels = images.to(device), labels.to(device)\n",
        "\n",
        "      outputs = model(images)\n",
        "      # calculate the softmax of the output to find the probabilites\n",
        "      softmax = nn.Softmax(dim=1)\n",
        "      probs = softmax(outputs)\n",
        "\n",
        "      # find the prediction label by finding the index of the maximum probability\n",
        "      _, predicted = torch.max(probs, 1)\n",
        "\n",
        "      # add to the total number of predicted labels\n",
        "      total += labels.size(0)\n",
        "      # calculate the correct predictions\n",
        "      correct += (predicted == labels).sum().item()\n",
        "\n",
        "  print(f\"Test Accuracy: {100 * correct / total:.2f}%\")"
      ],
      "metadata": {
        "id": "jUHnvdmsICHf",
        "colab": {
          "base_uri": "https://localhost:8080/"
        },
        "outputId": "d42beea8-9795-4520-c103-cf29400f07ad"
      },
      "execution_count": null,
      "outputs": [
        {
          "output_type": "stream",
          "name": "stdout",
          "text": [
            "Test Accuracy: 90.88%\n"
          ]
        }
      ]
    },
    {
      "cell_type": "markdown",
      "source": [
        "**Question:** Inspired by the evaluation code above, can you manually feed five different images from testset and get the predictions from the model? Compare the prediction with the true label, and see if they match. **[10 points]**"
      ],
      "metadata": {
        "id": "aOOXnDPDSHa4"
      }
    },
    {
      "cell_type": "code",
      "source": [],
      "metadata": {
        "id": "Dl1O62A3WBPx"
      },
      "execution_count": null,
      "outputs": []
    },
    {
      "cell_type": "code",
      "metadata": {
        "colab": {
          "base_uri": "https://localhost:8080/",
          "height": 296
        },
        "id": "37db0149",
        "outputId": "943e51bb-a5f6-4ef7-e980-cfabae1d0d79"
      },
      "source": [
        "# Select 5 random indices from the testset\n",
        "import random\n",
        "indices = random.sample(range(len(testset)), 5)\n",
        "\n",
        "model.eval() # Set the model to evaluation mode\n",
        "images_to_show = []\n",
        "labels_to_show = []\n",
        "predicted_to_show = []\n",
        "\n",
        "with torch.no_grad(): # Disable gradient calculation\n",
        "    print(\"Predictions vs True Labels:\")\n",
        "    for i in indices:\n",
        "        image, label = testset[i]\n",
        "        # Add a batch dimension and move the image to the device\n",
        "        image = image.unsqueeze(0).to(device)\n",
        "\n",
        "        # Get the model's output\n",
        "        output = model(image)\n",
        "\n",
        "        # Get the predicted class (index with the highest probability)\n",
        "        _, predicted = torch.max(output, -1)\n",
        "\n",
        "        # Print the results\n",
        "        print(f\"  Image index {i}: Predicted = {predicted.item()}, True Label = {label}\")\n",
        "\n",
        "        images_to_show.append(image.squeeze().cpu())\n",
        "        labels_to_show.append(label)\n",
        "        predicted_to_show.append(predicted.item())\n",
        "\n",
        "# Display the images side by side\n",
        "fig = plt.figure(figsize=(10, 5))\n",
        "for i in range(len(images_to_show)):\n",
        "    ax = fig.add_subplot(1, len(images_to_show), i+1)\n",
        "    imshow(images_to_show[i], title=f'Pred: {predicted_to_show[i]}, True: {labels_to_show[i]}')\n",
        "plt.show()"
      ],
      "execution_count": null,
      "outputs": [
        {
          "output_type": "stream",
          "name": "stdout",
          "text": [
            "Predictions vs True Labels:\n",
            "  Image index 4068: Predicted = 8, True Label = 8\n",
            "  Image index 5040: Predicted = 7, True Label = 7\n",
            "  Image index 2042: Predicted = 0, True Label = 0\n",
            "  Image index 705: Predicted = 7, True Label = 7\n",
            "  Image index 4241: Predicted = 0, True Label = 0\n"
          ]
        },
        {
          "output_type": "display_data",
          "data": {
            "text/plain": [
              "<Figure size 1000x500 with 5 Axes>"
            ],
            "image/png": "[encoded data removed]"
          },
          "metadata": {}
        }
      ]
    }
  ]
}